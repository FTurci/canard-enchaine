{
 "cells": [
  {
   "cell_type": "markdown",
   "metadata": {},
   "source": [
    "# Force chains in emulsion gels\n",
    "\n",
    "\n",
    "## About this notebook\n",
    "In this notebook we perform the analysis of the experimental data. The data are stored in the `data` folder"
   ]
  },
  {
   "cell_type": "code",
   "execution_count": 116,
   "metadata": {},
   "outputs": [
    {
     "name": "stdout",
     "output_type": "stream",
     "text": [
      "libc++abi.dylib: terminating with uncaught exception of type std::runtime_error: Couldn't close file\r\n"
     ]
    }
   ],
   "source": [
    "ls data"
   ]
  },
  {
   "cell_type": "markdown",
   "metadata": {},
   "source": [
    "Each folder contains pure `txt` files with the original data from Jun and `xyz` files that can be rendered in `Ovito` or `VMD`."
   ]
  },
  {
   "cell_type": "code",
   "execution_count": 117,
   "metadata": {},
   "outputs": [
    {
     "name": "stdout",
     "output_type": "stream",
     "text": [
      "libc++abi.dylib: terminating with uncaught exception of type std::runtime_error: Couldn't close file\r\n"
     ]
    }
   ],
   "source": [
    "ls data/phi_p_1.2/"
   ]
  },
  {
   "cell_type": "markdown",
   "metadata": {},
   "source": [
    "Lengthy and complex algorithms should be stored in the folder `src`"
   ]
  },
  {
   "cell_type": "code",
   "execution_count": 118,
   "metadata": {},
   "outputs": [
    {
     "name": "stdout",
     "output_type": "stream",
     "text": [
      "libc++abi.dylib: terminating with uncaught exception of type std::runtime_error: Couldn't close file\r\n"
     ]
    }
   ],
   "source": [
    "ls src"
   ]
  },
  {
   "cell_type": "markdown",
   "metadata": {},
   "source": [
    "## Visualising the data\n",
    "\n",
    "We first import the basic numerical and visuaisation modules. If they are missing, thhey can be install via `pip install module-name`. For example \n",
    "\n",
    "`pip install ipyvolume`"
   ]
  },
  {
   "cell_type": "code",
   "execution_count": 119,
   "metadata": {},
   "outputs": [],
   "source": [
    "import numpy as np\n",
    "import scipy as sp\n",
    "import ipyvolume as ipv\n",
    "import matplotlib.pyplot as plt\n",
    "from ipywidgets import interact, interactive, fixed, interact_manual\n",
    "import ipywidgets as widgets"
   ]
  },
  {
   "cell_type": "code",
   "execution_count": 120,
   "metadata": {},
   "outputs": [
    {
     "name": "stdout",
     "output_type": "stream",
     "text": [
      "The autoreload extension is already loaded. To reload it, use:\n",
      "  %reload_ext autoreload\n"
     ]
    }
   ],
   "source": [
    "%load_ext autoreload\n",
    "%autoreload 2\n",
    "from src import io"
   ]
  },
  {
   "cell_type": "code",
   "execution_count": null,
   "metadata": {},
   "outputs": [],
   "source": [
    "pol = 2.0\n",
    "centres = io.Centres(f\"data/phi_p_{pol}/coords.xyz\")\n",
    "contacts = io.Contacts(f\"data/phi_p_{pol}/contacts.xyz\")"
   ]
  },
  {
   "cell_type": "code",
   "execution_count": null,
   "metadata": {},
   "outputs": [],
   "source": [
    "plt.hist(2*centres.radius); plt.xlabel('$\\sigma$');"
   ]
  },
  {
   "cell_type": "code",
   "execution_count": null,
   "metadata": {},
   "outputs": [],
   "source": [
    "x, y, z = centres.unpack()\n",
    "color = np.array([(x-x.min())/x.ptp(),np.ones_like(x), np.ones_like(x)]).T\n",
    "ipv.scatter(x, y, z, size=centres.radius/2.5, marker=\"sphere\", color=color)\n",
    "\n",
    "x, y, z = contacts.unpack()\n",
    "ipv.scatter(x, y, z, size=0.9, marker=\"sphere\", color='red')\n",
    "ipv.show()"
   ]
  },
  {
   "cell_type": "markdown",
   "metadata": {},
   "source": [
    "## Example of analysis"
   ]
  },
  {
   "cell_type": "markdown",
   "metadata": {},
   "source": [
    "We show hee how we can proceed to explore the data. For example, we get the nearest contacts for every particle centre. To do so, we fix a cutoff radius `rcut` for our search. "
   ]
  },
  {
   "cell_type": "code",
   "execution_count": null,
   "metadata": {},
   "outputs": [],
   "source": [
    "from scipy.spatial import cKDTree\n",
    "\n",
    "rcut = centres.radius.mean()*1.2\n",
    "centre_tree = cKDTree(centres.coord)\n",
    "contact_tree = cKDTree(contacts.coord)\n",
    "centre_contacts=centre_tree.query_ball_tree(contact_tree, rcut)"
   ]
  },
  {
   "cell_type": "markdown",
   "metadata": {},
   "source": [
    "By the same means, we can easily estimate the radial distribution function `g(r)`."
   ]
  },
  {
   "cell_type": "code",
   "execution_count": null,
   "metadata": {},
   "outputs": [],
   "source": [
    "centres.get_gr()\n",
    "plt.plot(centres.gr['r'],centres.gr['g']);"
   ]
  },
  {
   "cell_type": "markdown",
   "metadata": {},
   "source": [
    "Similarly, we can compute the coordination within a larger cutoff, for example around the first minimum of `g(r)`."
   ]
  },
  {
   "cell_type": "code",
   "execution_count": null,
   "metadata": {},
   "outputs": [],
   "source": [
    "rcut = 27\n",
    "neighs=centre_tree.query_ball_tree(centre_tree,rcut)\n",
    "coordination = [len(n)-1 for n in neighs]"
   ]
  },
  {
   "cell_type": "code",
   "execution_count": null,
   "metadata": {},
   "outputs": [],
   "source": [
    "plt.hist(coordination, density=True); plt.xlabel('coordination');plt.ylabel('pdf');"
   ]
  },
  {
   "cell_type": "code",
   "execution_count": null,
   "metadata": {},
   "outputs": [],
   "source": [
    "centre_contacts_weights = []\n",
    "num_contacts = []\n",
    "for c in centre_contacts:\n",
    "    w = []\n",
    "    if len(c)>0:\n",
    "        w=list(contacts.volume[c])\n",
    "    \n",
    "    num_contacts.append(len(c))\n",
    "    centre_contacts_weights.append(w)"
   ]
  },
  {
   "cell_type": "code",
   "execution_count": null,
   "metadata": {},
   "outputs": [],
   "source": [
    "plt.hist(num_contacts,bins=np.arange(10));"
   ]
  },
  {
   "cell_type": "markdown",
   "metadata": {},
   "source": [
    "# Stress Tensor\n",
    "\n",
    "The stress data from Jun are stored in a different sub-folder"
   ]
  },
  {
   "cell_type": "code",
   "execution_count": null,
   "metadata": {},
   "outputs": [],
   "source": [
    "ls data/stressTensor/"
   ]
  },
  {
   "cell_type": "code",
   "execution_count": null,
   "metadata": {},
   "outputs": [],
   "source": [
    "ls data/stressTensor/'{pol}'"
   ]
  },
  {
   "cell_type": "markdown",
   "metadata": {},
   "source": [
    "The stress data are easily read into the `centres` object"
   ]
  },
  {
   "cell_type": "code",
   "execution_count": null,
   "metadata": {},
   "outputs": [],
   "source": [
    "centres.get_stress_info(f'data/stressTensor/{pol}/', rcut=28)"
   ]
  },
  {
   "cell_type": "code",
   "execution_count": null,
   "metadata": {},
   "outputs": [],
   "source": [
    "plt.hist(centres.trace,bins=30, density=True);\n",
    "plt.yscale('log')\n",
    "plt.xlabel('trace');"
   ]
  },
  {
   "cell_type": "markdown",
   "metadata": {},
   "source": [
    "The  minor stress is the most negative one as we are following the tension-positive convention of Peteres _et al_ PRE 2005"
   ]
  },
  {
   "cell_type": "code",
   "execution_count": null,
   "metadata": {},
   "outputs": [],
   "source": [
    "plt.scatter(centres.trace,centres.minor, alpha=0.1, label='minor')\n",
    "plt.scatter(centres.trace,centres.major, alpha=0.1, label = 'major')\n",
    "plt.xlabel('trace')\n",
    "plt.ylabel('stress');\n",
    "plt.legend();"
   ]
  },
  {
   "cell_type": "markdown",
   "metadata": {},
   "source": [
    "Compute a weighted g(r) "
   ]
  },
  {
   "cell_type": "code",
   "execution_count": null,
   "metadata": {},
   "outputs": [],
   "source": [
    "centres.get_gr(rmax=100,dr=1.)\n",
    "# select a threshold\n",
    "def compare_g(threshold):\n",
    "    mgr = centres.get_masked_gr(centres.trace, threshold)\n",
    "    plt.plot(centres.gr['r'],centres.gr['g'])\n",
    "    plt.plot(mgr['r'],mgr['g'])\n",
    "    \n",
    "interact(compare_g,threshold=widgets.FloatSlider(min=-3, max=0, value=-1,continuous_update=False))"
   ]
  },
  {
   "cell_type": "code",
   "execution_count": null,
   "metadata": {},
   "outputs": [],
   "source": [
    "interact(centres.plot_clusters,threshold=widgets.FloatSlider(min=-3, max=0, value=-1,continuous_update=False), rcut=fixed(28),size=fixed(5.0));\n"
   ]
  },
  {
   "cell_type": "code",
   "execution_count": null,
   "metadata": {},
   "outputs": [],
   "source": [
    "centres.pearsonr_coordination_z_slice(200,centres.local_aniso, plot=False)"
   ]
  },
  {
   "cell_type": "code",
   "execution_count": null,
   "metadata": {},
   "outputs": [],
   "source": [
    "zs = np.arange(100,380,10)\n",
    "profiles = centres.all_pearson_profiles(zs)\n",
    "print (profiles.keys())"
   ]
  },
  {
   "cell_type": "code",
   "execution_count": null,
   "metadata": {},
   "outputs": [],
   "source": [
    "for k,v in profiles.items():\n",
    "    if 'profile' in k:\n",
    "        plt.plot(zs,np.absolute(v),label=k)\n",
    "plt.legend()\n",
    "plt.xlabel('z'),plt.ylabel('Pearson |r| with coordination');\n",
    "plt.savefig('figs/profile_ correlations.png')"
   ]
  },
  {
   "cell_type": "code",
   "execution_count": null,
   "metadata": {},
   "outputs": [],
   "source": [
    "for z in np.linspace(150,350,4):\n",
    "    centres.plot_sample_slices(z,-centres.local_trace,centres.stress_coordination, feature_scaling=True, thickness=30,border=10)\n",
    "    plt.savefig(f'figs/correlations/p{pol}/traceVScoord-z{z}.pdf')\n"
   ]
  },
  {
   "cell_type": "code",
   "execution_count": null,
   "metadata": {},
   "outputs": [],
   "source": [
    "for z in np.linspace(150,370,4):\n",
    "    centres.plot_sample_slices(z,centres.aniso,centres.stress_coordination, feature_scaling=True, thickness=20,border=20)\n",
    "    plt.savefig(f'figs/correlations/p{pol}/anisoVScoord-z{z}.pdf')"
   ]
  },
  {
   "cell_type": "code",
   "execution_count": null,
   "metadata": {},
   "outputs": [],
   "source": [
    "for z in np.linspace(150,370,4):\n",
    "    centres.plot_sample_slices(z,centres.aniso,centres.trace, feature_scaling=True, thickness=20,border=20)\n",
    "    plt.savefig(f'figs/correlations/p{pol}/anisoVtrace-z{z}.pdf')"
   ]
  },
  {
   "cell_type": "markdown",
   "metadata": {},
   "source": [
    "## Network construction"
   ]
  },
  {
   "cell_type": "markdown",
   "metadata": {},
   "source": [
    "We need to find common contacts to construct edges."
   ]
  },
  {
   "cell_type": "code",
   "execution_count": null,
   "metadata": {},
   "outputs": [],
   "source": [
    "import networkx as nx\n",
    "from src import network"
   ]
  },
  {
   "cell_type": "code",
   "execution_count": null,
   "metadata": {
    "scrolled": true
   },
   "outputs": [],
   "source": [
    "plt.hist(contacts.volume,bins=32);\n",
    "H, e = np.histogram(contacts.volume,bins=32)\n",
    "print('peak',e[:-1][H.argmax()])\n",
    "print('mean', np.mean(contacts.volume))\n",
    "print('std', np.std(contacts.volume))\n",
    "np.percentile(contacts.volume,90)"
   ]
  },
  {
   "cell_type": "code",
   "execution_count": null,
   "metadata": {},
   "outputs": [],
   "source": [
    "G = network.ContactNetwork(centres,contacts,percentile=95)"
   ]
  },
  {
   "cell_type": "code",
   "execution_count": null,
   "metadata": {},
   "outputs": [],
   "source": [
    "G.export_components()"
   ]
  },
  {
   "cell_type": "markdown",
   "metadata": {},
   "source": [
    "From the Graph we can extract many possible metrics. For example the **deegre assortativity** measures to what extent nodes with similar degrees cluster together (see Newman PRE 67, 026126 􏰒2003􏰀)."
   ]
  },
  {
   "cell_type": "code",
   "execution_count": null,
   "metadata": {},
   "outputs": [],
   "source": [
    "nx.degree_assortativity_coefficient(G.graph)"
   ]
  },
  {
   "cell_type": "markdown",
   "metadata": {},
   "source": [
    "Simple geometrical measures are also possible, such as the **number of triangles**."
   ]
  },
  {
   "cell_type": "code",
   "execution_count": null,
   "metadata": {},
   "outputs": [],
   "source": [
    "plt.hist(nx.triangles(G.graph).values());\n",
    "plt.xlabel(\"number of triangles per node\");"
   ]
  },
  {
   "cell_type": "markdown",
   "metadata": {},
   "source": [
    "We can for example compute the **transitivity** $T$ as\n",
    "$$T=3 \\frac{\\# \\text { triangles }}{\\# \\text { triads }}$$\n",
    "which is $T=1$ for complete graphs (where every pair of nodes is connected by a single edge)."
   ]
  },
  {
   "cell_type": "code",
   "execution_count": null,
   "metadata": {},
   "outputs": [],
   "source": [
    "nx.transitivity(G.graph)"
   ]
  },
  {
   "cell_type": "markdown",
   "metadata": {},
   "source": [
    "![figs/transitivity.png](figs/transitivity.png)"
   ]
  }
 ],
 "metadata": {
  "kernelspec": {
   "display_name": "Python 3",
   "language": "python",
   "name": "python3"
  },
  "language_info": {
   "codemirror_mode": {
    "name": "ipython",
    "version": 3
   },
   "file_extension": ".py",
   "mimetype": "text/x-python",
   "name": "python",
   "nbconvert_exporter": "python",
   "pygments_lexer": "ipython3",
   "version": "3.7.1"
  }
 },
 "nbformat": 4,
 "nbformat_minor": 4
}
