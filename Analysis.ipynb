{
 "cells": [
  {
   "cell_type": "markdown",
   "metadata": {},
   "source": [
    "# Force chains in emulsion gels\n",
    "\n",
    "\n",
    "## About this notebook\n",
    "In this notebook we perform the analysis of the experimental data. The data are stored in the `data` folder"
   ]
  },
  {
   "cell_type": "code",
   "execution_count": 4,
   "metadata": {},
   "outputs": [
    {
     "name": "stdout",
     "output_type": "stream",
     "text": [
      "\u001b[1m\u001b[34mphi_p_0.8\u001b[m\u001b[m/ \u001b[1m\u001b[34mphi_p_1.2\u001b[m\u001b[m/ \u001b[1m\u001b[34mphi_p_1.5\u001b[m\u001b[m/ \u001b[1m\u001b[34mphi_p_1.7\u001b[m\u001b[m/ \u001b[1m\u001b[34mphi_p_2.0\u001b[m\u001b[m/ \u001b[1m\u001b[34mphi_p_2.3\u001b[m\u001b[m/\r\n"
     ]
    }
   ],
   "source": [
    "ls data"
   ]
  },
  {
   "cell_type": "markdown",
   "metadata": {},
   "source": [
    "Each folder contains pure `txt` files with the original data from Jun and `xyz` files that can be rendered in `Ovito` or `VMD`."
   ]
  },
  {
   "cell_type": "code",
   "execution_count": 5,
   "metadata": {},
   "outputs": [
    {
     "name": "stdout",
     "output_type": "stream",
     "text": [
      "Contact_center.txt   contacts.xyz         particle_center.txt\r\n",
      "\u001b[1m\u001b[34mTCC\u001b[m\u001b[m/                 coords.xyz\r\n",
      "box.txt              inputparameters.ini\r\n"
     ]
    }
   ],
   "source": [
    "ls data/phi_p_0.8/"
   ]
  },
  {
   "cell_type": "markdown",
   "metadata": {},
   "source": [
    "Lengthy and complex algorithms should be stored in the folder `src`"
   ]
  },
  {
   "cell_type": "code",
   "execution_count": 81,
   "metadata": {},
   "outputs": [
    {
     "name": "stdout",
     "output_type": "stream",
     "text": [
      "\u001b[1m\u001b[34m__pycache__\u001b[m\u001b[m/ io.py\r\n"
     ]
    }
   ],
   "source": [
    "ls src"
   ]
  },
  {
   "cell_type": "markdown",
   "metadata": {},
   "source": [
    "## Visualising the data\n",
    "\n",
    "We first import the basic numerical and visuaisation modules. If they are missing, thhey can be install via `pip install module-name`. For example \n",
    "\n",
    "`pip install ipyvolume`"
   ]
  },
  {
   "cell_type": "code",
   "execution_count": 44,
   "metadata": {},
   "outputs": [],
   "source": [
    "import numpy as np\n",
    "import scipy as sp\n",
    "import ipyvolume as ipv\n",
    "import matplotlib.pyplot as plt"
   ]
  },
  {
   "cell_type": "code",
   "execution_count": 13,
   "metadata": {},
   "outputs": [
    {
     "name": "stdout",
     "output_type": "stream",
     "text": [
      "The autoreload extension is already loaded. To reload it, use:\n",
      "  %reload_ext autoreload\n"
     ]
    }
   ],
   "source": [
    "%load_ext autoreload #to update the custom modules every time a modification is made\n",
    "%autoreload 2\n",
    "from src import io"
   ]
  },
  {
   "cell_type": "code",
   "execution_count": 52,
   "metadata": {},
   "outputs": [],
   "source": [
    "centres = io.Centres(\"data/phi_p_0.8/coords.xyz\")\n",
    "contacts = io.Contacts(\"data/phi_p_0.8/contacts.xyz\")"
   ]
  },
  {
   "cell_type": "code",
   "execution_count": 53,
   "metadata": {},
   "outputs": [
    {
     "data": {
      "image/png": "[encoded data removed]",
      "text/plain": [
       "<Figure size 432x288 with 1 Axes>"
      ]
     },
     "metadata": {
      "needs_background": "light"
     },
     "output_type": "display_data"
    }
   ],
   "source": [
    "plt.hist(2*centres.radius); plt.xlabel('$\\sigma$');"
   ]
  },
  {
   "cell_type": "code",
   "execution_count": 82,
   "metadata": {},
   "outputs": [
    {
     "data": {
      "application/vnd.jupyter.widget-view+json": {
       "model_id": "35ea10179f66490a9510bcd2b78acc98",
       "version_major": 2,
       "version_minor": 0
      },
      "text/plain": [
       "VBox(children=(Figure(camera=PerspectiveCamera(aspect=1.25, fov=46.0, matrixWorldNeedsUpdate=True, position=(0…"
      ]
     },
     "metadata": {},
     "output_type": "display_data"
    }
   ],
   "source": [
    "x, y, z = centres.unpack()\n",
    "color = np.array([(x-x.min())/x.ptp(),np.ones_like(x), np.ones_like(x)]).T\n",
    "ipv.scatter(x, y, z, size=centres.radius/2.5, marker=\"sphere\", color=color)\n",
    "\n",
    "x, y, z = contacts.unpack()\n",
    "ipv.scatter(x, y, z, size=0.9, marker=\"sphere\", color='red')\n",
    "ipv.show()"
   ]
  },
  {
   "cell_type": "code",
   "execution_count": 75,
   "metadata": {},
   "outputs": [
    {
     "data": {
      "text/plain": [
       "(array([4.7540e+03, 1.0014e+04, 6.0570e+03, 1.4000e+01, 9.0000e+00,\n",
       "        6.0000e+00, 1.2000e+01, 5.0000e+00, 5.0000e+00, 4.0000e+00]),\n",
       " array([0. , 0.1, 0.2, 0.3, 0.4, 0.5, 0.6, 0.7, 0.8, 0.9, 1. ]),\n",
       " <a list of 10 Patch objects>)"
      ]
     },
     "execution_count": 75,
     "metadata": {},
     "output_type": "execute_result"
    },
    {
     "data": {
      "image/png": "[encoded data removed]",
      "text/plain": [
       "<Figure size 432x288 with 1 Axes>"
      ]
     },
     "metadata": {
      "needs_background": "light"
     },
     "output_type": "display_data"
    }
   ],
   "source": [
    "plt.hist(u)"
   ]
  },
  {
   "cell_type": "code",
   "execution_count": null,
   "metadata": {},
   "outputs": [],
   "source": []
  }
 ],
 "metadata": {
  "kernelspec": {
   "display_name": "Python 3",
   "language": "python",
   "name": "python3"
  },
  "language_info": {
   "codemirror_mode": {
    "name": "ipython",
    "version": 3
   },
   "file_extension": ".py",
   "mimetype": "text/x-python",
   "name": "python",
   "nbconvert_exporter": "python",
   "pygments_lexer": "ipython3",
   "version": "3.7.1"
  }
 },
 "nbformat": 4,
 "nbformat_minor": 4
}
