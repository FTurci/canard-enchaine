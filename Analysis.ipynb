{
 "cells": [
  {
   "cell_type": "markdown",
   "metadata": {},
   "source": [
    "# Force chains in emulsion gels\n",
    "\n",
    "\n",
    "## About this notebook\n",
    "In this notebook we perform the analysis of the experimental data. The data are stored in the `data` folder"
   ]
  },
  {
   "cell_type": "code",
   "execution_count": 1,
   "metadata": {},
   "outputs": [
    {
     "name": "stdout",
     "output_type": "stream",
     "text": [
      "\u001b[1m\u001b[34mphi_p_0.8\u001b[m\u001b[m/ \u001b[1m\u001b[34mphi_p_1.2\u001b[m\u001b[m/ \u001b[1m\u001b[34mphi_p_1.5\u001b[m\u001b[m/ \u001b[1m\u001b[34mphi_p_1.7\u001b[m\u001b[m/ \u001b[1m\u001b[34mphi_p_2.0\u001b[m\u001b[m/ \u001b[1m\u001b[34mphi_p_2.3\u001b[m\u001b[m/\r\n"
     ]
    }
   ],
   "source": [
    "ls data"
   ]
  },
  {
   "cell_type": "markdown",
   "metadata": {},
   "source": [
    "Each folder contains pure `txt` files with the original data from Jun and `xyz` files that can be rendered in `Ovito` or `VMD`."
   ]
  },
  {
   "cell_type": "code",
   "execution_count": 2,
   "metadata": {},
   "outputs": [
    {
     "name": "stdout",
     "output_type": "stream",
     "text": [
      "Contact_center.txt   contacts.xyz         particle_center.txt\r\n",
      "\u001b[1m\u001b[34mTCC\u001b[m\u001b[m/                 coords.xyz\r\n",
      "box.txt              inputparameters.ini\r\n"
     ]
    }
   ],
   "source": [
    "ls data/phi_p_0.8/"
   ]
  },
  {
   "cell_type": "markdown",
   "metadata": {},
   "source": [
    "Lengthy and complex algorithms should be stored in the folder `src`"
   ]
  },
  {
   "cell_type": "code",
   "execution_count": 3,
   "metadata": {},
   "outputs": [
    {
     "name": "stdout",
     "output_type": "stream",
     "text": [
      "\u001b[1m\u001b[34m__pycache__\u001b[m\u001b[m/ geometry.py  io.py\r\n"
     ]
    }
   ],
   "source": [
    "ls src"
   ]
  },
  {
   "cell_type": "markdown",
   "metadata": {},
   "source": [
    "## Visualising the data\n",
    "\n",
    "We first import the basic numerical and visuaisation modules. If they are missing, thhey can be install via `pip install module-name`. For example \n",
    "\n",
    "`pip install ipyvolume`"
   ]
  },
  {
   "cell_type": "code",
   "execution_count": 4,
   "metadata": {},
   "outputs": [],
   "source": [
    "import numpy as np\n",
    "import scipy as sp\n",
    "import ipyvolume as ipv\n",
    "import matplotlib.pyplot as plt"
   ]
  },
  {
   "cell_type": "code",
   "execution_count": 6,
   "metadata": {},
   "outputs": [],
   "source": [
    "%load_ext autoreload\n",
    "%autoreload 2\n",
    "from src import io"
   ]
  },
  {
   "cell_type": "code",
   "execution_count": null,
   "metadata": {},
   "outputs": [],
   "source": [
    "centres = io.Centres(\"data/phi_p_0.8/coords.xyz\")\n",
    "contacts = io.Contacts(\"data/phi_p_0.8/contacts.xyz\")"
   ]
  },
  {
   "cell_type": "code",
   "execution_count": null,
   "metadata": {},
   "outputs": [],
   "source": [
    "plt.hist(2*centres.radius); plt.xlabel('$\\sigma$');"
   ]
  },
  {
   "cell_type": "code",
   "execution_count": null,
   "metadata": {},
   "outputs": [],
   "source": [
    "x, y, z = centres.unpack()\n",
    "color = np.array([(x-x.min())/x.ptp(),np.ones_like(x), np.ones_like(x)]).T\n",
    "ipv.scatter(x, y, z, size=centres.radius/2.5, marker=\"sphere\", color=color)\n",
    "\n",
    "x, y, z = contacts.unpack()\n",
    "ipv.scatter(x, y, z, size=0.9, marker=\"sphere\", color='red')\n",
    "ipv.show()"
   ]
  },
  {
   "cell_type": "markdown",
   "metadata": {},
   "source": [
    "## Example of analysis"
   ]
  },
  {
   "cell_type": "markdown",
   "metadata": {},
   "source": [
    "We show hee how we can proceed to explore the data. For example, we get the nearest contacts for every particle centre. To do so, we fix a cutoff radius `rcut` for our search. "
   ]
  },
  {
   "cell_type": "code",
   "execution_count": null,
   "metadata": {},
   "outputs": [],
   "source": [
    "from scipy.spatial import cKDTree\n",
    "\n",
    "rcut = centres.radius.mean()*1.1\n",
    "centre_tree = cKDTree(centres.coord)\n",
    "contact_tree = cKDTree(contacts.coord)\n",
    "centre_contacts=centre_tree.query_ball_tree(contact_tree, rcut)"
   ]
  },
  {
   "cell_type": "markdown",
   "metadata": {},
   "source": [
    "By the same means, we can easily estimate the radial distribution function `g(r)`."
   ]
  },
  {
   "cell_type": "code",
   "execution_count": null,
   "metadata": {},
   "outputs": [],
   "source": [
    "dr =0.25\n",
    "r = np.arange(dr,80,dr)\n",
    "nb = centre_tree.count_neighbors(centre_tree,r, cumulative=False)\n",
    "nb[0]=0 # ignore self-distances\n",
    "V = np.prod(centres.coord.ptp(axis=0))\n",
    "N  = centres.coord.shape[0]\n",
    "g = nb/(4*np.pi*r**2*dr)*2.5*V/(N*(N-1))\n",
    "plt.plot(r,g); plt.xlabel('r [pixels]'); plt.ylabel('g(r)');"
   ]
  },
  {
   "cell_type": "markdown",
   "metadata": {},
   "source": [
    "Similarly, we can compute the coordination within a larger cutoff, for example around the first minimum of `g(r)`."
   ]
  },
  {
   "cell_type": "code",
   "execution_count": null,
   "metadata": {},
   "outputs": [],
   "source": [
    "rcut = 27\n",
    "neighs=centre_tree.query_ball_tree(centre_tree,rcut)\n",
    "coordination = [len(n) for n in neighs]"
   ]
  },
  {
   "cell_type": "code",
   "execution_count": null,
   "metadata": {},
   "outputs": [],
   "source": [
    "plt.hist(coordination, density=True); plt.xlabel('coordination');plt.ylabel('pdf');"
   ]
  },
  {
   "cell_type": "markdown",
   "metadata": {},
   "source": [
    "We can also plot a correlation plot between coordination and total contact volume on a particle  (a proxy for the pressure?)."
   ]
  },
  {
   "cell_type": "code",
   "execution_count": null,
   "metadata": {},
   "outputs": [],
   "source": [
    "total_contact = [ ]\n",
    "for c in centre_contacts:\n",
    "    if len(c)>0:\n",
    "        total_contact.append(sum(c))\n",
    "    else:\n",
    "        total_contact.append(0)"
   ]
  },
  {
   "cell_type": "code",
   "execution_count": null,
   "metadata": {},
   "outputs": [],
   "source": [
    "plt.hist2d(total_contact, coordination,bins=10, cmap= plt.cm.cividis);\n",
    "plt.xlabel('total contact volume'); plt.ylabel('coordination')"
   ]
  },
  {
   "cell_type": "code",
   "execution_count": null,
   "metadata": {},
   "outputs": [],
   "source": [
    "import seaborn as sb\n",
    "sb.regplot(total_contact, coordination,scatter_kws={'alpha':0.05}, line_kws={'color':'red'});\n",
    "plt.xlabel('total contact volume'); plt.ylabel('coordination')"
   ]
  }
 ],
 "metadata": {
  "kernelspec": {
   "display_name": "Python 3",
   "language": "python",
   "name": "python3"
  },
  "language_info": {
   "codemirror_mode": {
    "name": "ipython",
    "version": 3
   },
   "file_extension": ".py",
   "mimetype": "text/x-python",
   "name": "python",
   "nbconvert_exporter": "python",
   "pygments_lexer": "ipython3",
   "version": "3.7.1"
  }
 },
 "nbformat": 4,
 "nbformat_minor": 4
}
